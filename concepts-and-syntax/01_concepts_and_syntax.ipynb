{
 "cells": [
  {
   "cell_type": "markdown",
   "id": "9372804f",
   "metadata": {},
   "source": [
    "\n",
    "# Syntax & Concepts: Pandas\n",
    "\n",
    "### Before Class:\n",
    "\n",
    "1. **Read this notebook and attempt each \"You Try\" section.**\n",
    "    - Need help? Check the AI tips or your textbook.\n",
    "\n",
    "2. **Complete at least one practice problem from this chapter.**\n",
    "    - Problems are ordered from easiest to hardest.\n",
    "    - Stuck? Copy and paste the instructions and AI prompt into your preferred AI service for guided help.\n",
    "\n",
    "3. **Submit your attempted practice problem code in the \"Class Prep Report\" on Learning Suite for credit.**\n",
    "\n",
    "#### Need more explanation? Copy and paste this AI prompt along with any code you have questions about:\n",
    "(Double-click the text below, then copy and paste it into your AI service.)\n",
    "\n",
    "```\n",
    "I am new to Python and just starting to learn coding. I need simple, clear explanations. When I ask a question or show my code, act like my personal tutor: correct mistakes gently, clarify misconceptions, and use easy-to-follow language. Feel free to use examples or metaphors to help me understand. Let me know when I'm doing well or what I need to adjust.\n",
    "```\n"
   ]
  },
  {
   "cell_type": "markdown",
   "id": "0df1df6c",
   "metadata": {},
   "source": [
    "\n",
    "### Chapter Summary\n",
    "\n",
    "Pandas is a popular Python library used to work with tabular data (like a spreadsheet or database). The main data type in Pandas is a **DataFrame**, which looks like a table.\n",
    "\n",
    "In this chapter, you'll learn how to:\n",
    "- Create and explore DataFrames\n",
    "- Access and filter rows/columns using conditions\n",
    "- Import/export Excel and CSV files\n",
    "- Sort, group, and summarize your data\n",
    "- Add, remove, and clean up data\n",
    "\n",
    "This is one of the most practical tools in Python for working with data in real-world business scenarios.\n"
   ]
  },
  {
   "cell_type": "markdown",
   "id": "8f6413eb",
   "metadata": {},
   "source": [
    "\n",
    "## 1: Importing Pandas and Creating a DataFrame\n",
    "\n",
    "You start by importing pandas and creating a small DataFrame from a dictionary.\n"
   ]
  },
  {
   "cell_type": "code",
   "execution_count": 1,
   "id": "322b8bd8",
   "metadata": {},
   "outputs": [
    {
     "name": "stdout",
     "output_type": "stream",
     "text": [
      "    Name  Sales\n",
      "0  Alice    300\n",
      "1    Bob    400\n"
     ]
    }
   ],
   "source": [
    "import pandas as pd\n",
    "\n",
    "data = {\"Name\": [\"Alice\", \"Bob\"], \"Sales\": [300, 400]}\n",
    "df = pd.DataFrame(data)\n",
    "print(df)"
   ]
  },
  {
   "cell_type": "markdown",
   "id": "559fe8d0",
   "metadata": {},
   "source": [
    "### 1.p: You Try\n",
    "Create a DataFrame with two columns: `Product` and `Price`, and add at least two rows."
   ]
  },
  {
   "cell_type": "code",
   "execution_count": null,
   "id": "07dd6dd2",
   "metadata": {},
   "outputs": [],
   "source": [
    "# Your code here\n"
   ]
  },
  {
   "cell_type": "markdown",
   "id": "d4292d3f",
   "metadata": {},
   "source": [
    "\n",
    "## 2: Accessing Rows and Columns\n",
    "\n",
    "Use bracket notation or `.loc[]` / `.iloc[]` to access data.\n"
   ]
  },
  {
   "cell_type": "code",
   "execution_count": 4,
   "id": "9e86d505",
   "metadata": {},
   "outputs": [
    {
     "name": "stdout",
     "output_type": "stream",
     "text": [
      "0    Alice\n",
      "1      Bob\n",
      "Name: Name, dtype: object\n",
      "Name     Alice\n",
      "Sales      300\n",
      "Name: 0, dtype: object\n",
      "300\n"
     ]
    }
   ],
   "source": [
    "print(df[\"Name\"])       # Column by name\n",
    "print(df.loc[0])         # Row by index\n",
    "print(df.loc[0, \"Sales\"]) # Specific value"
   ]
  },
  {
   "cell_type": "markdown",
   "id": "f33af9fa",
   "metadata": {},
   "source": [
    "### 2.p: You Try\n",
    "Access the second row in your `Product` DataFrame, and print just the price."
   ]
  },
  {
   "cell_type": "code",
   "execution_count": null,
   "id": "75dc7d43",
   "metadata": {},
   "outputs": [],
   "source": [
    "# Your code here\n"
   ]
  },
  {
   "cell_type": "markdown",
   "id": "5ff3c6a1",
   "metadata": {},
   "source": [
    "\n",
    "## 3: Filtering Using Conditions\n",
    "\n",
    "Filter rows by writing conditions inside the DataFrame.\n"
   ]
  },
  {
   "cell_type": "code",
   "execution_count": 5,
   "id": "b430755f",
   "metadata": {},
   "outputs": [
    {
     "name": "stdout",
     "output_type": "stream",
     "text": [
      "  Name  Sales\n",
      "1  Bob    400\n"
     ]
    }
   ],
   "source": [
    "print(df.loc[df[\"Sales\"] > 300])"
   ]
  },
  {
   "cell_type": "markdown",
   "id": "84f8aa96",
   "metadata": {},
   "source": [
    "### 3.p: You Try\n",
    "Filter your `Product` DataFrame to show only rows where the price is over 10."
   ]
  },
  {
   "cell_type": "code",
   "execution_count": null,
   "id": "88857855",
   "metadata": {},
   "outputs": [],
   "source": [
    "# Your code here\n"
   ]
  },
  {
   "cell_type": "markdown",
   "id": "f73df46c",
   "metadata": {},
   "source": [
    "\n",
    "## 4: Importing and Exporting Files\n",
    "\n",
    "Pandas can read and write CSV or Excel files easily.\n"
   ]
  },
  {
   "cell_type": "code",
   "execution_count": null,
   "id": "72f5c7a3",
   "metadata": {},
   "outputs": [],
   "source": [
    "# df.to_csv(\"sales.csv\", index=False)\n",
    "# df = pd.read_csv(\"sales.csv\")"
   ]
  },
  {
   "cell_type": "markdown",
   "id": "0fc76bbc",
   "metadata": {},
   "source": [
    "### 4.p: You Try\n",
    "Save your `Product` DataFrame to a CSV file called `products.csv`."
   ]
  },
  {
   "cell_type": "code",
   "execution_count": null,
   "id": "cdf5d0a6",
   "metadata": {},
   "outputs": [],
   "source": [
    "# Your code here\n"
   ]
  },
  {
   "cell_type": "markdown",
   "id": "727ae552",
   "metadata": {},
   "source": [
    "\n",
    "## 5: Sorting a DataFrame\n",
    "\n",
    "Use `.sort_values()` to sort by column values.\n"
   ]
  },
  {
   "cell_type": "code",
   "execution_count": null,
   "id": "efd48104",
   "metadata": {},
   "outputs": [],
   "source": [
    "print(df.sort_values(\"Sales\", ascending=False))"
   ]
  },
  {
   "cell_type": "markdown",
   "id": "631bebac",
   "metadata": {},
   "source": [
    "### 5.p: You Try\n",
    "Sort your DataFrame by price, from highest to lowest."
   ]
  },
  {
   "cell_type": "code",
   "execution_count": null,
   "id": "3d2415af",
   "metadata": {},
   "outputs": [],
   "source": [
    "# Your code here\n"
   ]
  },
  {
   "cell_type": "markdown",
   "id": "d97dbd1a",
   "metadata": {},
   "source": [
    "\n",
    "## Want to Learn More?\n",
    "\n",
    "If you'd like extra help or more details, you can:\n",
    "- **Ask AI**: Use the suggested questions in the `review_with_ai` file.\n",
    "- **Read your textbook**: Check the reading guide on Learning Suite beforehand.\n",
    "- **Review class practice files**: They contain more detailed examples and explanations, available on Learning Suite.\n"
   ]
  }
 ],
 "metadata": {
  "kernelspec": {
   "display_name": "Python 3",
   "language": "python",
   "name": "python3"
  },
  "language_info": {
   "codemirror_mode": {
    "name": "ipython",
    "version": 3
   },
   "file_extension": ".py",
   "mimetype": "text/x-python",
   "name": "python",
   "nbconvert_exporter": "python",
   "pygments_lexer": "ipython3",
   "version": "3.12.5"
  }
 },
 "nbformat": 4,
 "nbformat_minor": 5
}

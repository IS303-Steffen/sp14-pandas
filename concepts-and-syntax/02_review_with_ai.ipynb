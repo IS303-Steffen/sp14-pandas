{
 "cells": [
  {
   "cell_type": "markdown",
   "id": "aa0a57ef",
   "metadata": {},
   "source": [
    "\n",
    "# Review with AI: Pandas\n",
    "\n",
    "Use this notebook to reinforce your understanding of how to use pandas to work with DataFrames—tables of data in Python.\n",
    "\n",
    "### How to use this notebook:\n",
    "- **Copy and paste** the prompts and questions into your preferred AI tool (such as ChatGPT or Copilot).\n",
    "- **Check your understanding** by explaining concepts in your own words and asking AI for corrections.\n",
    "- **Use the practice prompt** below to generate a custom challenge and try solving it on your own.\n"
   ]
  },
  {
   "cell_type": "markdown",
   "id": "9304c915",
   "metadata": {},
   "source": [
    "\n",
    "## AI Setup Prompt\n",
    "\n",
    "Paste this into your AI tool before asking questions:\n",
    "\n",
    "```\n",
    "I am a beginner in an introductory Python programming course. When I ask questions or describe a concept, please respond as my tutor by explaining in simple, easy-to-understand language. Correct any mistakes I make and help clarify misconceptions. You can use examples or metaphors to help explain concepts when needed. Let me know if my understanding is correct or where I might be going wrong.\n",
    "```\n"
   ]
  },
  {
   "cell_type": "markdown",
   "id": "adb5a0dc",
   "metadata": {},
   "source": [
    "\n",
    "## Questions to Review Concepts\n",
    "\n",
    "Ask your AI tutor these questions to clarify key concepts:\n",
    "\n",
    "- What are some of the most common uses for pandas?\n",
    "- When should I use pandas instead of openpyxl?\n",
    "- How can I access specific parts of a DataFrame (rows, columns, or values)?\n",
    "- How can I change values in a DataFrame based on a condition?\n",
    "- What formats can be imported/exported using pandas?\n",
    "- When would it be better not to loop through a DataFrame?\n"
   ]
  },
  {
   "cell_type": "markdown",
   "id": "aaebbc47",
   "metadata": {},
   "source": [
    "\n",
    "## Check Your Understanding\n",
    "\n",
    "Try explaining these ideas to AI in your own words and have it correct or confirm your explanation:\n",
    "\n",
    "- The difference between `.loc[]` and `.iloc[]`\n",
    "- The difference between filtering with `.query()` and Boolean indexing\n"
   ]
  },
  {
   "cell_type": "markdown",
   "id": "f70d6b7f",
   "metadata": {},
   "source": [
    "\n",
    "## Generate Your Own Practice Question\n",
    "\n",
    "Use the prompt below to have AI generate a custom practice problem for you. Try solving it before asking for the answer.\n",
    "\n",
    "```\n",
    "I am a beginning python student in an intro course that is learning coding for the first time. I want you to create a practice problem for me on using pandas dataframes. So far, I've learned how to create variables, getting inputs, some popular built-in functions, if statements, some basic for and while loops, lists, dictionaries, writing custom functions, exception handling, making basic objects with class/instance variables and methods, as well as some other OOP principles like inheritance. The proble...\n",
    "```\n"
   ]
  }
 ],
 "metadata": {},
 "nbformat": 4,
 "nbformat_minor": 5
}
